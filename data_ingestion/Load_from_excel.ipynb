{
 "cells": [
  {
   "cell_type": "code",
   "execution_count": 1,
   "id": "9863da27-a130-4332-8033-e44ff0afa18f",
   "metadata": {},
   "outputs": [],
   "source": [
    "#!pip install sqlalchemy\n",
    "import os\n",
    "import pandas as pd\n",
    "import openpyxl\n",
    "import glob"
   ]
  },
  {
   "cell_type": "code",
   "execution_count": 2,
   "id": "b524975c-d599-428b-9c8d-5c76907f7ac2",
   "metadata": {},
   "outputs": [
    {
     "name": "stdout",
     "output_type": "stream",
     "text": [
      "Успешно прочитано: /home/user/work/DABI/Task4/130.10 202405 MaSG Azure Import Projects_SLAI_V01_20240606.xlsx\n",
      "Успешно прочитано: /home/user/work/DABI/Task4/130.10 202405 MaMX Azure Import Projects_DMUN_V03_20240610.xlsx\n",
      "Успешно прочитано: /home/user/work/DABI/Task4/130.10 202405 MaRU Azure Import Projects_VPER_V01_20240514_corr.xlsx\n"
     ]
    },
    {
     "name": "stderr",
     "output_type": "stream",
     "text": [
      "/tmp/ipykernel_63554/3615713677.py:47: FutureWarning: The behavior of DataFrame concatenation with empty or all-NA entries is deprecated. In a future version, this will no longer exclude empty or all-NA columns when determining the result dtypes. To retain the old behavior, exclude the relevant entries before the concat operation.\n",
      "  combined_pmt = pd.concat([combined_pmt, full_pmt], ignore_index=True)\n"
     ]
    },
    {
     "name": "stdout",
     "output_type": "stream",
     "text": [
      "Успешно прочитано: /home/user/work/DABI/Task4/130.10 202405 MaDE Azure Import Projects_CTHI-MSCH_V03_20240612.xlsx\n",
      "Успешно прочитано: /home/user/work/DABI/Task4/130.10 202405 MaAT Azure Import Projects_JGUM_V01_20240604.xlsx\n",
      "Успешно прочитано: /home/user/work/DABI/Task4/130.10 202405 MaNA Azure Import Projects_V02_MMCC_MMIC_20240617.xlsx\n"
     ]
    },
    {
     "name": "stderr",
     "output_type": "stream",
     "text": [
      "/tmp/ipykernel_63554/3615713677.py:47: FutureWarning: The behavior of DataFrame concatenation with empty or all-NA entries is deprecated. In a future version, this will no longer exclude empty or all-NA columns when determining the result dtypes. To retain the old behavior, exclude the relevant entries before the concat operation.\n",
      "  combined_pmt = pd.concat([combined_pmt, full_pmt], ignore_index=True)\n"
     ]
    },
    {
     "name": "stdout",
     "output_type": "stream",
     "text": [
      "Успешно прочитано: /home/user/work/DABI/Task4/130.10 202405 MaINT Azure Import Projects_MMCC_20240614.xlsx\n",
      "Успешно прочитано: /home/user/work/DABI/Task4/130.10 202405 MaKR Azure Import Projects_JPAR_V01_20240521.xlsx\n",
      "Успешно прочитано: /home/user/work/DABI/Task4/130.10 202405 MaTR Azure Import Projects_AYUZ_V01_20240612.xlsx\n"
     ]
    },
    {
     "name": "stderr",
     "output_type": "stream",
     "text": [
      "/tmp/ipykernel_63554/3615713677.py:47: FutureWarning: The behavior of DataFrame concatenation with empty or all-NA entries is deprecated. In a future version, this will no longer exclude empty or all-NA columns when determining the result dtypes. To retain the old behavior, exclude the relevant entries before the concat operation.\n",
      "  combined_pmt = pd.concat([combined_pmt, full_pmt], ignore_index=True)\n"
     ]
    },
    {
     "name": "stdout",
     "output_type": "stream",
     "text": [
      "Успешно прочитано: /home/user/work/DABI/Task4/130.10 202405 MaCH Azure Import Projects_BGUE_V01_20240613.xlsx\n",
      "Успешно прочитано: /home/user/work/DABI/Task4/130.10 202405 MaAU Azure Import Projects_NPAT_V01_20240612.xlsx\n"
     ]
    }
   ],
   "source": [
    "path = os.getcwd()\n",
    "xlsx_files = glob.glob(os.path.join(path, \"*.xlsx\")) \n",
    "combined_df, combined_pmt = pd.DataFrame(), pd.DataFrame()\n",
    "prg, status, pmt, iso, company = pd.DataFrame(), pd.DataFrame(), pd.DataFrame(), pd.DataFrame(), pd.DataFrame()\n",
    "header_name = 'Range of intercompany projects'\n",
    "header_name1 = 'Project type'\n",
    "\n",
    "def clear_table(df,first_col):\n",
    "      df[first_col] = df[first_col].astype(str)\n",
    "      df = df[df[first_col].notna()  & (df[first_col] != '') & (df[first_col] != '0') & (df[first_col] != 'nan')]\n",
    "      return df\n",
    "\n",
    "\n",
    "def check_sheet_exists(file_path, sheet_name):\n",
    "    try:\n",
    "        with pd.ExcelFile(file_path, engine='openpyxl') as xls:\n",
    "            if sheet_name in xls.sheet_names:\n",
    "                return True\n",
    "            else:\n",
    "                print(f\"Лист '{sheet_name}' не найден в файле {file_path}\")\n",
    "                return False\n",
    "    except Exception as e:\n",
    "        print(f\"Ошибка при обработке {file_path}: {e}\")\n",
    "        return False \n",
    "    \n",
    "for file in xlsx_files: \n",
    "     try:\n",
    "              if check_sheet_exists(file, 'Data_Input_Act'):\n",
    "                  df = pd.read_excel(file, sheet_name = 'Data_Input_Act', header = 6, usecols = 'B:CM' , engine='openpyxl', skiprows = [7,8,9],  dtype={'Project-ID': str})\n",
    "                 \n",
    "                  search_res = df[df.iloc[:, 0] == header_name]\n",
    "                  if not search_res.empty:\n",
    "                        start_index = search_res.index[0]\n",
    "                        df = df.drop(df.index[start_index:start_index+4])\n",
    "                  else:\n",
    "                         print(f\"Table with header '{header_name}' isn't exist on sheet\")\n",
    "                  full_df = clear_table(df, 'P_CODE')\n",
    "                  combined_df = pd.concat([combined_df, full_df], ignore_index=True) \n",
    "                  \n",
    "              if check_sheet_exists(file, 'PMT'):\n",
    "                  list_cols = ['Project type', 'Project Owner', 'Project-ID', 'Product group', 'Contract signing date', 'ISO county code', 'Closing date']\n",
    "                  \n",
    "                  pmt = pd.read_excel(file, sheet_name = 'PMT', header = 4, usecols = list_cols, engine='openpyxl',skiprows = [606],  dtype={'Project-ID': str}) \n",
    "                 \n",
    "                  full_pmt = clear_table(pmt, 'Project-ID')\n",
    "                 \n",
    "                  combined_pmt = pd.concat([combined_pmt, full_pmt], ignore_index=True)\n",
    "              \n",
    "              if company.empty:\n",
    "                  if check_sheet_exists(file, 'Company'):\n",
    "                      company = pd.read_excel(file, sheet_name = 'Company', header = 4, usecols = 'B:C', names=[\"company_code\", \"company_id\",], engine='openpyxl')\n",
    "                      company['currency'] = pd.Series(dtype='str') #add  column CURRENCY in company\n",
    "              #else:\n",
    "              #    print(\"datefаrame Company was successfully created earlier\")\n",
    "                  \n",
    "              if status.empty:\n",
    "                  if check_sheet_exists(file, 'STA'):\n",
    "                      status = pd.read_excel(file, sheet_name = 'STA', header = 4, usecols = 'B:C',names=[\"project_status_name\", \"status_id\"], engine='openpyxl') \n",
    "              #else:\n",
    "              #    print(\"datefаrame STA was successfully created earlier\")\n",
    "              \n",
    "              if prg.empty:\n",
    "                  if check_sheet_exists(file, 'PRG'):\n",
    "                      prg = pd.read_excel(file, sheet_name = 'PRG', header = 4, usecols = 'B:C', names=[\"product_group_name\", \"product_group_id\"], engine='openpyxl') \n",
    "              #else:\n",
    "              #    print(\"datefаrame PRG was successfully created earlier\")\n",
    "              \n",
    "              if iso.empty:\n",
    "                  if check_sheet_exists(file, 'ISO'):\n",
    "                      iso = pd.read_excel(file, sheet_name = 'ISO', header = 4, usecols = 'B:D', names=[\"iso_code\", \"country_name\", \"iso_id\"], engine='openpyxl') \n",
    "              #else:\n",
    "              #    print(\"datefаrame ISO was successfully created earlier\")  \n",
    "              print(f\"Успешно прочитано: {file}\")    \n",
    "     except Exception as e:\n",
    "              print(f\"Ошибка при чтении {file}: {e}\")"
   ]
  }
 ],
 "metadata": {
  "kernelspec": {
   "display_name": "Python 3 (ipykernel)",
   "language": "python",
   "name": "python3"
  },
  "language_info": {
   "codemirror_mode": {
    "name": "ipython",
    "version": 3
   },
   "file_extension": ".py",
   "mimetype": "text/x-python",
   "name": "python",
   "nbconvert_exporter": "python",
   "pygments_lexer": "ipython3",
   "version": "3.10.12"
  }
 },
 "nbformat": 4,
 "nbformat_minor": 5
}
